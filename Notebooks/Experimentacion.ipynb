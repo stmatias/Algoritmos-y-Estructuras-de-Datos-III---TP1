{
 "cells": [
  {
   "cell_type": "code",
   "execution_count": 1,
   "id": "227e1ab4",
   "metadata": {},
   "outputs": [],
   "source": [
    "import os\n",
    "import numpy as np\n",
    "import pandas as pd\n",
    "import seaborn as sns\n",
    "import time\n",
    "import matplotlib.pyplot as plt\n",
    "from scipy import stats"
   ]
  },
  {
   "cell_type": "markdown",
   "id": "f3dea2d0",
   "metadata": {},
   "source": [
    "GENERADOR "
   ]
  },
  {
   "cell_type": "code",
   "execution_count": 2,
   "id": "9a408312",
   "metadata": {},
   "outputs": [],
   "source": [
    "def generator(rangeR,range_w,range_r,ns,k,path):\n",
    "    for i in ns:\n",
    "        for j in range(k):\n",
    "            R = np.random.randint(rangeR[0],rangeR[1])\n",
    "            w = np.random.randint(range_w[0],range_w[1], i)\n",
    "            r = np.random.randint(range_r[0], range_r[1], i) \n",
    "            \n",
    "            f = open((path + \"{}--{}.in\").format(i, j), \"x\")\n",
    "            f.write(\"{} {}\\n\".format(i, R))\n",
    "            \n",
    "            for l in range(i-1):\n",
    "                f.write(\"{} {}\\n\".format(w[l], r[l]))\n",
    "            \n",
    "            f.write(\"{} {}\".format(w[i-1], r[i-1]))\n",
    "            f.close()"
   ]
  },
  {
   "cell_type": "markdown",
   "id": "1c6a3105",
   "metadata": {},
   "source": [
    "INSTANCIAS: TODOS, MUCHOS, POCOS Y NINGUNO"
   ]
  },
  {
   "cell_type": "code",
   "execution_count": 5,
   "id": "79c07087",
   "metadata": {},
   "outputs": [],
   "source": [
    "rangeR = (1000, 1500)                        \n",
    "range_w =  (10,20)\n",
    "range_r = (1000, 1500)\n",
    "ns =  np.arange(1, 30)\n",
    "k = 15\n",
    "path = \"../Instancias/Todos/\"\n",
    "\n",
    "generator(rangeR,range_w,range_r,ns,k,path)"
   ]
  },
  {
   "cell_type": "code",
   "execution_count": 9,
   "id": "4a05a8f6",
   "metadata": {},
   "outputs": [],
   "source": [
    "range_w =  (60,80)\n",
    "range_r = (600, 800)\n",
    "path = \"../Instancias/Muchos/\"\n",
    "\n",
    "generator(rangeR,range_w,range_r,ns,k,path)"
   ]
  },
  {
   "cell_type": "code",
   "execution_count": 10,
   "id": "00c110de",
   "metadata": {},
   "outputs": [],
   "source": [
    "range_w =  (300,500)\n",
    "range_r = (600, 700)\n",
    "path = \"../Instancias/Pocos/\"\n",
    "\n",
    "generator(rangeR,range_w,range_r,ns,k,path)"
   ]
  },
  {
   "cell_type": "code",
   "execution_count": 11,
   "id": "20fc0a9c",
   "metadata": {},
   "outputs": [],
   "source": [
    "range_w =  (2000,2500)\n",
    "path = \"../Instancias/Ninguno/\"\n",
    "\n",
    "generator(rangeR,range_w,range_r,ns,k,path)"
   ]
  },
  {
   "cell_type": "markdown",
   "id": "5e880d86",
   "metadata": {},
   "source": [
    "EXPERIMENTACION FB"
   ]
  },
  {
   "cell_type": "code",
   "execution_count": null,
   "id": "f3a8c13b",
   "metadata": {},
   "outputs": [],
   "source": [
    "def experimentFB(ns,k,path):\n",
    "    \n",
    "    times_n = []\n",
    "\n",
    "    for i in ns:\n",
    "        timeAcc = 0\n",
    "        \n",
    "        for j in range(k):\n",
    "            start = time.time()\n",
    "            os.system((\"./../ejec ./../\" + path + \"{}--{}.in FB\").format(i, j))\n",
    "            timeAcc += time.time() - start\n",
    "            \n",
    "        times_n.append(timeAcc/k)\n",
    "    \n",
    "    return times_n"
   ]
  },
  {
   "cell_type": "markdown",
   "id": "9e2208b0",
   "metadata": {},
   "source": [
    "EJECUCION FB"
   ]
  },
  {
   "cell_type": "code",
   "execution_count": null,
   "id": "0975004f",
   "metadata": {},
   "outputs": [],
   "source": [
    "os.system(\"g++ ../src/main.cpp -o ../ejec\")\n",
    "todosFB = experimentFB(ns,k,\"Instancias/Todos/\")\n",
    "ningunoFB = experimentFB(ns,k,\"Instancias/Ninguno/\") "
   ]
  },
  {
   "cell_type": "markdown",
   "id": "fb291b87",
   "metadata": {},
   "source": [
    "GRAFICOS FB"
   ]
  },
  {
   "cell_type": "code",
   "execution_count": null,
   "id": "54d777f0",
   "metadata": {},
   "outputs": [],
   "source": [
    "def exponential(ns):\n",
    "    res = []\n",
    "    for i in ns:\n",
    "        res.append(2**i)\n",
    "    return res\n",
    "        \n",
    "nsExponential = exponential(ns)\n",
    "\n",
    "plt.plot(ns,todosFB)\n",
    "ax = plt.twinx()               #USO MISMO EJE X PERO NO MISMO EJE Y\n",
    "ax.plot(ns,nsExponential,color='tab:orange')\n",
    "plt.savefig('ExpFB2.png')\n",
    "\n",
    "\n",
    "plt.show()"
   ]
  },
  {
   "cell_type": "code",
   "execution_count": null,
   "id": "2c8d8268",
   "metadata": {},
   "outputs": [],
   "source": [
    "plt.plot(ns,ningunoFB)\n",
    "plt.xlabel('n')\n",
    "plt.ylabel('Tiempo (s)',color='tab:orange')\n",
    "\n",
    "ax = plt.twinx()  \n",
    "ax.set_ylabel('f(n) = 2^n',color = \"tab:blue\")\n",
    "ax.plot(ns,nsExponential,color='tab:orange')\n",
    "plt.savefig('foo.png')\n",
    "plt.show()\n"
   ]
  },
  {
   "cell_type": "markdown",
   "id": "c5783327",
   "metadata": {},
   "source": [
    "EXPERIMENTACION BT"
   ]
  },
  {
   "cell_type": "code",
   "execution_count": 6,
   "id": "411617b5",
   "metadata": {},
   "outputs": [],
   "source": [
    "def experimentBT(ns,k,path):\n",
    "    \n",
    "    times_nBT = []\n",
    "    times_nBTF = []\n",
    "    times_nBTO = []\n",
    "\n",
    "    for i in ns:\n",
    "        timeAccBT = 0\n",
    "        timeAccBTF = 0\n",
    "        timeAccBTO = 0\n",
    "        \n",
    "        \n",
    "        for j in range(k):\n",
    "            \n",
    "            start = time.time()\n",
    "            os.system((\"./../ejec ./../\" + path + \"{}--{}.in BT\").format(i, j))\n",
    "            timeAccBT += time.time() - start\n",
    "            \n",
    "            start = time.time()\n",
    "            os.system((\"./../ejec ./../\" + path + \"{}--{}.in BTF\").format(i, j))\n",
    "            timeAccBTF += time.time() - start\n",
    "            \n",
    "            start = time.time()\n",
    "            os.system((\"./../ejec ./../\" + path + \"{}--{}.in BTO\").format(i, j))\n",
    "            timeAccBTO += time.time() - start\n",
    "        \n",
    "        times_nBT.append(timeAccBT/k)\n",
    "        times_nBTF.append(timeAccBTF/k)\n",
    "        times_nBTO.append(timeAccBTO/k)\n",
    "    \n",
    "    return [times_nBT,times_nBTF,times_nBTO]"
   ]
  },
  {
   "cell_type": "markdown",
   "id": "dbe0ee5e",
   "metadata": {},
   "source": [
    "EJECUCION BT"
   ]
  },
  {
   "cell_type": "code",
   "execution_count": 7,
   "id": "a7e46573",
   "metadata": {},
   "outputs": [],
   "source": [
    "os.system(\"g++ ../src/main.cpp -o ../ejec\")\n",
    "todosBT = experimentBT(ns,k,\"Instancias/Todos/\")\n",
    "\n",
    "\n"
   ]
  },
  {
   "cell_type": "code",
   "execution_count": 17,
   "id": "68d03026",
   "metadata": {},
   "outputs": [],
   "source": [
    "os.system(\"g++ ../src/main.cpp -o ../ejec\")\n",
    "ningunoBT = experimentBT(ns,k,\"Instancias/Ninguno/\")\n"
   ]
  },
  {
   "cell_type": "markdown",
   "id": "b4add23e",
   "metadata": {},
   "source": [
    "GRAFICOS BT"
   ]
  },
  {
   "cell_type": "code",
   "execution_count": 8,
   "id": "9b47e54d",
   "metadata": {},
   "outputs": [
    {
     "data": {
      "image/png": "[encoded data removed]",
      "text/plain": [
       "<Figure size 432x288 with 1 Axes>"
      ]
     },
     "metadata": {
      "needs_background": "light"
     },
     "output_type": "display_data"
    }
   ],
   "source": [
    "plt.plot(ns,todosBT[0],label = \"BT\")\n",
    "plt.plot(ns,todosBT[1], label = \"BTF\")\n",
    "plt.plot(ns,todosBT[2], label = \"BTO\")\n",
    "\n",
    "plt.xlabel(\"n\")\n",
    "plt.ylabel(\"Tiempo (s)\")\n",
    "\n",
    "plt.legend()\n",
    "plt.show()"
   ]
  },
  {
   "cell_type": "code",
   "execution_count": 22,
   "id": "a803f97e",
   "metadata": {},
   "outputs": [
    {
     "data": {
      "image/png": "[encoded data removed]",
      "text/plain": [
       "<Figure size 432x288 with 1 Axes>"
      ]
     },
     "metadata": {
      "needs_background": "light"
     },
     "output_type": "display_data"
    }
   ],
   "source": [
    "plt.plot(ns,ningunoBT[0],label = \"BT\")\n",
    "plt.plot(ns,ningunoBT[2], label = \"BTF\")\n",
    "plt.plot(ns,ningunoBT[1], label = \"BTO\")\n",
    "\n",
    "plt.xlabel(\"n\")\n",
    "plt.ylabel(\"Tiempo (ms)\")\n",
    "\n",
    "plt.legend()\n",
    "plt.show()"
   ]
  },
  {
   "cell_type": "markdown",
   "id": "48a4d5ca",
   "metadata": {},
   "source": [
    "Instancias PD"
   ]
  },
  {
   "cell_type": "code",
   "execution_count": null,
   "id": "8ca30e94",
   "metadata": {},
   "outputs": [],
   "source": [
    "def generatorNFijo(rangeR,range_w,range_r,ns,k,path):\n",
    "    for i in ns:\n",
    "        for j in rangeR:\n",
    "            R = j\n",
    "            w = np.random.randint(range_w[0],range_w[1], i)\n",
    "            r = np.random.randint(range_r[0], range_r[1], i) \n",
    "            \n",
    "            f = open((path + \"{}--{}.in\").format(i, j), \"x\")\n",
    "            f.write(\"{} {}\\n\".format(i, R))\n",
    "            \n",
    "            for l in range(i-1):\n",
    "                f.write(\"{} {}\\n\".format(w[l], r[l]))\n",
    "            \n",
    "            f.write(\"{} {}\".format(w[i-1], r[i-1]))\n",
    "            f.close()"
   ]
  },
  {
   "cell_type": "code",
   "execution_count": null,
   "id": "64145d27",
   "metadata": {},
   "outputs": [],
   "source": [
    "rangeR = np.arange(100, 1500, 50)    #rango de R (restistencia del jambotubo)                        \n",
    "range_w =  (10,50)      #rango de w_i (pesos de productos)                        \n",
    "range_r = (1000, 1500)  #rango de r_i (restistencia de los productos)                        \n",
    "ns =  np.arange(30, 31) #rango de n (cantidad de productos)\n",
    "k = 30                  #cantidad de instancias\n",
    "path = \"../Instancias/ProgDin/Nfijo/\"\n",
    "\n",
    "generatorNFijo(rangeR,range_w,range_r,ns,k,path)"
   ]
  },
  {
   "cell_type": "code",
   "execution_count": null,
   "id": "d809e56e",
   "metadata": {},
   "outputs": [],
   "source": [
    "rangeR = (300, 301)    #rango de R (restistencia del jambotubo)                        \n",
    "range_w =  (10,30)     #rango de w_i (pesos de productos)                        \n",
    "range_r = (1000, 1500) #rango de r_i (restistencia de los productos)                        \n",
    "ns =  np.arange(1, 30) #rango de n (cantidad de productos)\n",
    "k = 1                  #cantidad de instancias\n",
    "path = \"../Instancias/ProgDin/Rfijo/\"\n",
    "\n",
    "generator(rangeR,range_w,range_r,ns,k,path)"
   ]
  },
  {
   "cell_type": "code",
   "execution_count": null,
   "id": "47f45bed",
   "metadata": {},
   "outputs": [],
   "source": []
  },
  {
   "cell_type": "markdown",
   "id": "47a38dc3",
   "metadata": {},
   "source": [
    "Experimentacion PD"
   ]
  },
  {
   "cell_type": "code",
   "execution_count": null,
   "id": "21f4076a",
   "metadata": {},
   "outputs": [],
   "source": [
    "def experimentPDRFijo(ns,k,path):\n",
    "\n",
    "    times = []\n",
    "\n",
    "    for i in ns:\n",
    "        timeAccPD = 0\n",
    "        for j in range(k):\n",
    "            \n",
    "            print((\"./../ejec ./../\" + path + \"{}--{}.in PD\").format(i, j))\n",
    "            for i in np.arange(1, 100):\n",
    "                start = time.time()\n",
    "                os.system((\"./../ejec ./../\" + path + \"{}--{}.in PD\").format(i, j))\n",
    "                timeAccPD += time.time() - start\n",
    "            times.append(timeAccPD/100)\n",
    "            print(timeAccPD/100)\n",
    "    \n",
    "    return times"
   ]
  },
  {
   "cell_type": "code",
   "execution_count": null,
   "id": "87580c41",
   "metadata": {},
   "outputs": [],
   "source": [
    "def experimentPDNFijo(ns,k,path):\n",
    "    \n",
    "    times = []\n",
    "\n",
    "    for i in ns:\n",
    "        timeAccPD = 0\n",
    "        print((\"./../ejec ./../\" + path + \"{}--{}.in PD\").format(k, i))\n",
    "        for i in np.arange(1, 100):\n",
    "            start = time.time()\n",
    "            os.system((\"./../ejec ./../\" + path + \"{}--{}.in PD\").format(k, i))\n",
    "            timeAccPD += time.time() - start\n",
    "        times.append(timeAccPD/100)\n",
    "        print(timeAccPD/100)\n",
    "\n",
    "    return times"
   ]
  },
  {
   "cell_type": "markdown",
   "id": "1b509cc8",
   "metadata": {},
   "source": [
    "Ejecucion PD"
   ]
  },
  {
   "cell_type": "code",
   "execution_count": null,
   "id": "db560660",
   "metadata": {},
   "outputs": [],
   "source": [
    "os.system(\"g++ -std=c++11 ../src/main.cpp -o ../ejec\")\n",
    "rFijo = experimentPDRFijo(np.arange(1, 30),1,\"Instancias/ProgDin/Rfijo/\")\n",
    "nFijo = experimentPDNFijo(np.arange(100, 1500, 50),30,\"Instancias/ProgDin/Nfijo/\")"
   ]
  },
  {
   "cell_type": "code",
   "execution_count": null,
   "id": "4e4ebf8b",
   "metadata": {},
   "outputs": [],
   "source": [
    "print(rFijo)\n",
    "\n",
    "cotaPD = []\n",
    "for i in np.arange(1, 30):\n",
    "    cotaPD.append(i*300*0.0000085)\n",
    "\n",
    "plt.plot(np.arange(1, 30),rFijo,label = \"PD - R fijo\")\n",
    "#plt.plot(np.arange(1, 30),cotaPD, label = \"PD teorico\")\n",
    "\n",
    "plt.xlabel(\"n\")\n",
    "plt.ylabel(\"Tiempo (ms)\")\n",
    "\n",
    "plt.legend()\n",
    "plt.show()"
   ]
  },
  {
   "cell_type": "code",
   "execution_count": null,
   "id": "7a8ffe53",
   "metadata": {},
   "outputs": [],
   "source": [
    "print(nFijo)\n",
    "\n",
    "cotaPD = []\n",
    "for i in np.arange(100, 1500, 50):\n",
    "    cotaPD.append(i*30*0.000003)\n",
    "\n",
    "plt.plot(np.arange(100, 1500, 50),nFijo,label = \"PD - N fijo\")\n",
    "#plt.plot(np.arange(100, 1500, 50),cotaPD, label = \"PD teorico\")\n",
    "\n",
    "plt.xlabel(\"R\")\n",
    "plt.ylabel(\"Tiempo (ms)\")\n",
    "\n",
    "plt.legend()\n",
    "plt.show()"
   ]
  }
 ],
 "metadata": {
  "kernelspec": {
   "display_name": "Python 3",
   "language": "python",
   "name": "python3"
  },
  "language_info": {
   "codemirror_mode": {
    "name": "ipython",
    "version": 3
   },
   "file_extension": ".py",
   "mimetype": "text/x-python",
   "name": "python",
   "nbconvert_exporter": "python",
   "pygments_lexer": "ipython3",
   "version": "3.8.5"
  }
 },
 "nbformat": 4,
 "nbformat_minor": 5
}
