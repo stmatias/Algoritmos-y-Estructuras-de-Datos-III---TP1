{
 "cells": [
  {
   "cell_type": "code",
   "execution_count": 1,
   "id": "77319065",
   "metadata": {},
   "outputs": [],
   "source": [
    "import os\n",
    "import numpy as np\n",
    "import time\n",
    "import matplotlib.pyplot as plt\n",
    "from scipy import stats"
   ]
  },
  {
   "cell_type": "markdown",
   "id": "fd7e9a0d",
   "metadata": {},
   "source": [
    "GENERADOR DE INSTANCIAS"
   ]
  },
  {
   "cell_type": "code",
   "execution_count": 2,
   "id": "7fb19541",
   "metadata": {},
   "outputs": [],
   "source": [
    "def generator(rangeR,range_w,range_r,ns,k,path):\n",
    "    for i in ns:\n",
    "        for j in range(k):\n",
    "            R = np.random.randint(rangeR[0],rangeR[1])\n",
    "            w = np.random.randint(range_w[0],range_w[1], i)\n",
    "            r = np.random.randint(range_r[0], range_r[1], i) \n",
    "            \n",
    "            f = open((path + \"{}--{}.in\").format(i, j), \"x\")\n",
    "            f.write(\"{} {}\\n\".format(i, R))\n",
    "            \n",
    "            for l in range(i-1):\n",
    "                f.write(\"{} {}\\n\".format(w[l], r[l]))\n",
    "            \n",
    "            f.write(\"{} {}\".format(w[i-1], r[i-1]))\n",
    "            f.close()"
   ]
  },
  {
   "cell_type": "markdown",
   "id": "0df2aef2",
   "metadata": {},
   "source": [
    "INSTANCIAS TODOS, MUCHOS, POCOS Y NINGUNO"
   ]
  },
  {
   "cell_type": "code",
   "execution_count": 3,
   "id": "30244b8a",
   "metadata": {},
   "outputs": [],
   "source": [
    "rangeR = (1000, 1500)                        \n",
    "range_w =  (10,20)\n",
    "range_r = (1000, 1500)\n",
    "ns =  np.arange(1, 30)\n",
    "k = 5\n",
    "path = \"../Instancias/Todos/\"\n",
    "\n",
    "generator(rangeR,range_w,range_r,ns,k,path)"
   ]
  },
  {
   "cell_type": "code",
   "execution_count": 4,
   "id": "c05c94bb",
   "metadata": {},
   "outputs": [],
   "source": [
    "range_w =  (60,80)\n",
    "range_r = (600, 800)\n",
    "path = \"../Instancias/Muchos/\"\n",
    "\n",
    "generator(rangeR,range_w,range_r,ns,k,path)"
   ]
  },
  {
   "cell_type": "code",
   "execution_count": 5,
   "id": "cc659614",
   "metadata": {},
   "outputs": [],
   "source": [
    "range_w =  (300,500)\n",
    "range_r = (600, 700)\n",
    "path = \"../Instancias/Pocos/\"\n",
    "\n",
    "generator(rangeR,range_w,range_r,ns,k,path)"
   ]
  },
  {
   "cell_type": "code",
   "execution_count": 6,
   "id": "163b8729",
   "metadata": {},
   "outputs": [],
   "source": [
    "range_w =  (2000,2500)\n",
    "path = \"../Instancias/Ninguno/\"\n",
    "\n",
    "generator(rangeR,range_w,range_r,ns,k,path)"
   ]
  },
  {
   "cell_type": "markdown",
   "id": "94bb54d2",
   "metadata": {},
   "source": [
    "EXPERIMENTACION FB"
   ]
  },
  {
   "cell_type": "code",
   "execution_count": 7,
   "id": "4e0160d9",
   "metadata": {},
   "outputs": [],
   "source": [
    "def experimentFB(ns,k,path):\n",
    "    \n",
    "    times_n = []\n",
    "\n",
    "    for i in ns:\n",
    "        timeAcc = 0\n",
    "        \n",
    "        for j in range(k):\n",
    "            start = time.time()\n",
    "            os.system((\"./../ejec ./../\" + path + \"{}--{}.in FB\").format(i, j))\n",
    "            timeAcc += time.time() - start\n",
    "            \n",
    "        times_n.append(timeAcc/k)\n",
    "    \n",
    "    return times_n"
   ]
  },
  {
   "cell_type": "markdown",
   "id": "2bf9073e",
   "metadata": {},
   "source": [
    "EJECUCION FB"
   ]
  },
  {
   "cell_type": "code",
   "execution_count": 8,
   "id": "075b115a",
   "metadata": {},
   "outputs": [],
   "source": [
    "os.system(\"g++ ../src/main.cpp -o ../ejec\")\n",
    "todosFB = experimentFB(ns,k,\"Instancias/Todos/\")\n",
    "muchosFB = experimentFB(ns,k,\"Instancias/Muchos/\")\n",
    "pocosFB = experimentFB(ns,k,\"Instancias/Pocos/\")\n",
    "ningunoFB = experimentFB(ns,k,\"Instancias/Ninguno/\") "
   ]
  },
  {
   "cell_type": "markdown",
   "id": "f4ce3b55",
   "metadata": {},
   "source": [
    "GRAFICOS FB"
   ]
  },
  {
   "cell_type": "code",
   "execution_count": 21,
   "id": "8e63bd30",
   "metadata": {},
   "outputs": [
    {
     "data": {
      "image/png": "[encoded data removed]",
      "text/plain": [
       "<Figure size 432x288 with 6 Axes>"
      ]
     },
     "metadata": {
      "needs_background": "light"
     },
     "output_type": "display_data"
    }
   ],
   "source": [
    "from matplotlib.gridspec import GridSpec\n",
    "\n",
    "def exponential(ns):\n",
    "    res = []\n",
    "    for i in ns:\n",
    "        res.append(2**i)\n",
    "    return res\n",
    "        \n",
    "nsExponential = exponential(ns)\n",
    "fig.set_size_inches(180.5, 10.5)\n",
    "\n",
    "fig=plt.figure()\n",
    "\n",
    "gs=GridSpec(1,4) \n",
    "\n",
    "ax1=fig.add_subplot(gs[0,0]) \n",
    "ax2=fig.add_subplot(gs[0,1]) \n",
    "ax3=fig.add_subplot(gs[0,2]) \n",
    "ax4=fig.add_subplot(gs[0,3]) \n",
    "\n",
    "ax1.plot(ns,todosFB,'o')\n",
    "ax5 = ax1.twinx()               #USO MISMO EJE X PERO NO MISMO EJE Y\n",
    "ax5.plot(ns,nsExponential,color='tab:orange')\n",
    "\n",
    "\n",
    "ax2.plot(ns,todosFB,'o')\n",
    "ax6 = ax2.twinx()               #USO MISMO EJE X PERO NO MISMO EJE Y\n",
    "ax6.plot(ns,nsExponential,color='tab:orange')\n",
    "\n",
    "ax3.plot(ns,todosFB,'o')\n",
    "\n",
    "ax4.plot(ns,todosFB,'o')\n",
    "\n",
    "fig.savefig('test2png.png', dpi=100)\n",
    "plt.show()"
   ]
  },
  {
   "cell_type": "markdown",
   "id": "4f89d234",
   "metadata": {},
   "source": [
    "EXPERIMENTACION BT"
   ]
  },
  {
   "cell_type": "code",
   "execution_count": null,
   "id": "dc4f3030",
   "metadata": {},
   "outputs": [],
   "source": [
    "def experimentBT(ns,k,path):\n",
    "    \n",
    "    times_nBT = []\n",
    "    times_nBTF = []\n",
    "    times_nBTO = []\n",
    "\n",
    "    for i in ns:\n",
    "        timeAccBT = 0\n",
    "        timeAccBTF = 0\n",
    "        timeAccBTO = 0\n",
    "        \n",
    "        \n",
    "        for j in range(k):\n",
    "            \n",
    "            start = time.time()\n",
    "            os.system((\"./../ejec ./../\" + path + \"{}--{}.in BT\").format(i, j))\n",
    "            timeAccBT += time.time() - start\n",
    "            \n",
    "            start = time.time()\n",
    "            os.system((\"./../ejec ./../\" + path + \"{}--{}.in BTF\").format(i, j))\n",
    "            timeAccBTF += time.time() - start\n",
    "            \n",
    "            start = time.time()\n",
    "            os.system((\"./../ejec ./../\" + path + \"{}--{}.in BTO\").format(i, j))\n",
    "            timeAccBTO += time.time() - start\n",
    "        \n",
    "        times_nBT.append(timeAccBT/k)\n",
    "        times_nBTF.append(timeAccBTF/k)\n",
    "        times_nBTO.append(timeAccBTO/k)\n",
    "    \n",
    "    return [times_nBT,times_nBTF,times_nBTO]"
   ]
  },
  {
   "cell_type": "markdown",
   "id": "648b2f21",
   "metadata": {},
   "source": [
    "EJECUCION BT"
   ]
  },
  {
   "cell_type": "code",
   "execution_count": null,
   "id": "f6cf3b9f",
   "metadata": {},
   "outputs": [],
   "source": [
    "os.system(\"g++ ../src/main.cpp -o ../ejec\")\n",
    "todosBT = experimentBT(ns,k,\"Instancias/Todos/\")\n",
    "muchosBT = experimentBT(ns,k,\"Instancias/Muchos/\")\n",
    "pocosBT = experimentBT(ns,k,\"Instancias/Pocos/\")\n",
    "ningunoBT = experimentBT(ns,k,\"Instancias/Ninguno/\") "
   ]
  },
  {
   "cell_type": "markdown",
   "id": "1344a2d1",
   "metadata": {},
   "source": [
    "GRAFICOS BT"
   ]
  },
  {
   "cell_type": "code",
   "execution_count": null,
   "id": "7b2317b5",
   "metadata": {},
   "outputs": [],
   "source": [
    "fig, (ax1, ax2,ax3) = plt.subplots(1, 3)\n",
    "\n",
    "ax1.plot(ns,altas[0])\n",
    "ax1.plot(ns,altas[1])\n",
    "ax1.plot(ns,altas[2])\n",
    "\n",
    "ax2.plot(ns,bajas[0])\n",
    "ax2.plot(ns,bajas[1])\n",
    "ax2.plot(ns,bajas[2])\n",
    "\n",
    "ax3.plot(ns,bajas[0])\n",
    "ax3.plot(ns,bajas[2])\n",
    "\n",
    "\n",
    "plt.show()"
   ]
  },
  {
   "cell_type": "code",
   "execution_count": null,
   "id": "15e34c30",
   "metadata": {},
   "outputs": [],
   "source": []
  },
  {
   "cell_type": "code",
   "execution_count": null,
   "id": "0c98b3ce",
   "metadata": {},
   "outputs": [],
   "source": []
  }
 ],
 "metadata": {
  "kernelspec": {
   "display_name": "Python 3",
   "language": "python",
   "name": "python3"
  },
  "language_info": {
   "codemirror_mode": {
    "name": "ipython",
    "version": 3
   },
   "file_extension": ".py",
   "mimetype": "text/x-python",
   "name": "python",
   "nbconvert_exporter": "python",
   "pygments_lexer": "ipython3",
   "version": "3.8.5"
  }
 },
 "nbformat": 4,
 "nbformat_minor": 5
}
